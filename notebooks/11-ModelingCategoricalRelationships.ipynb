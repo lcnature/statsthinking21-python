{
  "cells": [
    {
      "cell_type": "markdown",
      "metadata": {
        "id": "er9ef5i6fqR8"
      },
      "source": [
        "# Modeling categorical relationships in Python\n",
        "\n",
        "So far we have discussed the general concept of statistical modeling and hypothesis testing, and applied them to some simple analyses. In this chapter we will focus on the modeling of *categorical* relationships, by which we mean relationships between variables that are measured qualitatively.  These data are usually expressed in terms of counts; that is, for each value of the variable (or combination of values of multiple variables), how many observations take that value?  For example, when we count how many people from each major are in our class, we are fitting a categorical model to the data.\n",
        "As an example, we will use the NHANES dataset to ask whether there is a relationship between being a smoker and having ever had cancer (of any type)."
      ]
    },
    {
      "cell_type": "code",
      "execution_count": null,
      "metadata": {
        "lines_to_next_cell": 2,
        "id": "C6NJgZSEfqR9"
      },
      "outputs": [],
      "source": [
        "! pip install nhanes\n",
        "from nhanes.load import load_NHANES_data\n",
        "nhanes_data = load_NHANES_data()\n",
        "adult_nhanes_data = nhanes_data.query('AgeInYearsAtScreening > 17')\n",
        "\n",
        "# clean up smoking variables\n",
        "adult_nhanes_data.loc[adult_nhanes_data['SmokedAtLeast100CigarettesInLife'] == 0, 'DoYouNowSmokeCigarettes'] = 'Not at all'\n",
        "adult_nhanes_data.loc[:, 'SmokeNow'] = (adult_nhanes_data['DoYouNowSmokeCigarettes'] != 'Not at all')\n",
        "\n",
        "categorical_df = adult_nhanes_data[['SmokeNow', 'EverToldYouHadCancerOrMalignancy']].dropna().astype('int').rename(columns={'EverToldYouHadCancerOrMalignancy': 'HadCancer'})"
      ]
    },
    {
      "cell_type": "markdown",
      "metadata": {
        "id": "Yjj1ofQLfqR-"
      },
      "source": [
        "## The Pearson Chi-squared test\n",
        "The Pearson Chi-squared test is used to test for an association between two categorical variables, against the null hypothesis of independence. We will use the `statsmodels.stats.Table` function for this, which has a number of useful features."
      ]
    },
    {
      "cell_type": "code",
      "execution_count": null,
      "metadata": {
        "id": "s2pA4FfkfqR-"
      },
      "outputs": [],
      "source": [
        "import statsmodels.api as sm\n",
        "table = sm.stats.Table.from_data(categorical_df, shift_zeros=False)\n",
        "table.table_orig"
      ]
    },
    {
      "cell_type": "markdown",
      "metadata": {
        "id": "L2Ur1zHlfqR-"
      },
      "source": [
        "We can also see the predicted frequencies under the null hypothesis of independence, which are stored in the `.fittedvalues` element:"
      ]
    },
    {
      "cell_type": "code",
      "execution_count": null,
      "metadata": {
        "id": "w-kf3vzofqR-"
      },
      "outputs": [],
      "source": [
        "table.fittedvalues"
      ]
    },
    {
      "cell_type": "markdown",
      "metadata": {
        "id": "7xCmD9SqfqR-"
      },
      "source": [
        "Using these, we can compute the chi-squared statistic:"
      ]
    },
    {
      "cell_type": "code",
      "execution_count": null,
      "metadata": {
        "lines_to_next_cell": 2,
        "id": "xINQgZrgfqR-"
      },
      "outputs": [],
      "source": [
        "import numpy as np\n",
        "orig_vector = np.ravel(table.table_orig)\n",
        "independence_vector = np.ravel(table.fittedvalues)\n",
        "squared_resid = (orig_vector - independence_vector)**2\n",
        "chi2 = np.sum(squared_resid/independence_vector)\n",
        "chi2"
      ]
    },
    {
      "cell_type": "markdown",
      "metadata": {
        "id": "J07M_Zk5fqR_"
      },
      "source": [
        "We can confirm this by comparing it to the result from the built-in function to compute the association:\n",
        "\n",
        "chi2_result = table.test_nominal_association()\n",
        "print(chi2_result)"
      ]
    },
    {
      "cell_type": "markdown",
      "metadata": {
        "id": "BGqHfL-9fqR_"
      },
      "source": [
        "We can also see the standardized residuals:"
      ]
    },
    {
      "cell_type": "code",
      "execution_count": null,
      "metadata": {
        "lines_to_next_cell": 2,
        "id": "UjbaLNO6fqR_"
      },
      "outputs": [],
      "source": [
        "table.standardized_resids"
      ]
    },
    {
      "cell_type": "markdown",
      "metadata": {
        "id": "MQbzdl_qfqR_"
      },
      "source": [
        "This shows that there is an unexpectedly large number of people who smoke but don't have cancer, and similarly an unexpectedly low number of smokers who report having had cancer before.  Does this tell us that smoking results in lower rates of cancer?"
      ]
    }
  ],
  "metadata": {
    "jupytext": {
      "formats": "ipynb,py:percent"
    },
    "kernelspec": {
      "display_name": "Python 3",
      "language": "python",
      "name": "python3"
    },
    "colab": {
      "provenance": []
    }
  },
  "nbformat": 4,
  "nbformat_minor": 0
}