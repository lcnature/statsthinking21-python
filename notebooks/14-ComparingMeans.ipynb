{
  "nbformat": 4,
  "nbformat_minor": 0,
  "metadata": {
    "colab": {
      "provenance": [],
      "authorship_tag": "ABX9TyOwUcGVXFoxw8LQ0a2wA7OM",
      "include_colab_link": true
    },
    "kernelspec": {
      "name": "python3",
      "display_name": "Python 3"
    },
    "language_info": {
      "name": "python"
    }
  },
  "cells": [
    {
      "cell_type": "markdown",
      "metadata": {
        "id": "view-in-github",
        "colab_type": "text"
      },
      "source": [
        "<a href=\"https://colab.research.google.com/github/lcnature/statsthinking21-python/blob/master/notebooks/14-ComparingMeans.ipynb\" target=\"_parent\"><img src=\"https://colab.research.google.com/assets/colab-badge.svg\" alt=\"Open In Colab\"/></a>"
      ]
    },
    {
      "cell_type": "code",
      "source": [
        "import pandas as pd\n",
        "import numpy as np\n",
        "from scipy import stats\n",
        "from statsmodels.stats.power import TTestIndPower, TTestPower\n",
        "import statsmodels.api as sm\n",
        "from statsmodels.formula.api import ols\n",
        "from statsmodels.stats.weightstats import ttest_ind\n",
        "from statsmodels.stats import weightstats as stests\n",
        "import matplotlib.pyplot as plt\n",
        "import seaborn as sns\n",
        "! pip install nhanes\n",
        "from nhanes.load import load_NHANES_data\n",
        "! pip install pingouin\n",
        "\n",
        "nhanes_data = load_NHANES_data()\n",
        "adult_nhanes_data = nhanes_data.query('AgeInYearsAtScreening > 17')"
      ],
      "metadata": {
        "id": "e2fH9wrw6-o8"
      },
      "execution_count": null,
      "outputs": []
    },
    {
      "cell_type": "markdown",
      "source": [
        "## Chapter 14: Comparing Means in Python\n",
        "\n",
        "### 14.1 Testing the value of a single mean (Section 14.1)\n",
        "\n",
        "In this example, we will show multiple ways to test a hypothesis about the value of a single mean. As an example, let’s test whether the mean systolic blood pressure (BP) in the NHANES dataset (averaged over the three measurements that were taken for each person) is greater than 120 mm, which is the standard value for normal systolic BP.\n",
        "\n",
        "First let’s perform a power analysis to see how large our sample would need to be in order to detect a small difference (Cohen’s d = .2)."
      ],
      "metadata": {
        "id": "UKKStMRm4hNI"
      }
    },
    {
      "cell_type": "code",
      "execution_count": null,
      "metadata": {
        "id": "L9NSMdBY4bMZ"
      },
      "outputs": [],
      "source": [
        "from statsmodels.stats.power import TTestPower\n",
        "\n",
        "# Conduct power analysis for one-sample t-test\n",
        "effect_size = 0.2\n",
        "power = 0.8\n",
        "alpha = 0.05\n",
        "\n",
        "analysis = TTestPower()\n",
        "sample_size = analysis.solve_power(effect_size=effect_size, power=power, alpha=alpha, alternative='larger')\n",
        "print(\"Required sample size: \", sample_size)"
      ]
    },
    {
      "cell_type": "markdown",
      "source": [
        "Based on this, we take a sample of 156 individuals from the dataset.\n"
      ],
      "metadata": {
        "id": "RoLsT2Kw44w0"
      }
    },
    {
      "cell_type": "code",
      "source": [
        "n = int(np.ceil(sample_size))\n",
        "adult_nhanes_data.loc[:,'BPSysAve'] = adult_nhanes_data.loc[:,['SystolicBloodPres1StRdgMmHg',\n",
        "                                                   'SystolicBloodPres2NdRdgMmHg',\n",
        "                                                   'SystolicBloodPres3RdRdgMmHg']].mean(axis=1)\n",
        "\n",
        "nhanes_BP_sample = adult_nhanes_data.dropna(subset=['BPSysAve']).sample(n=n)\n",
        "mean_bp = nhanes_BP_sample['BPSysAve'].mean()\n",
        "print(\"Mean BP: \",mean_bp)"
      ],
      "metadata": {
        "id": "UsNygMTI45qs"
      },
      "execution_count": null,
      "outputs": []
    },
    {
      "cell_type": "markdown",
      "source": [
        "Let’s perform a one-sample t-test:"
      ],
      "metadata": {
        "id": "E-gG8UzU5AKI"
      }
    },
    {
      "cell_type": "code",
      "source": [
        "t_stat, p_value = stats.ttest_1samp(nhanes_BP_sample['BPSysAve'], popmean=120)\n",
        "print(\"One-sample t-test:\")\n",
        "print(\"t-stat =\", t_stat)\n",
        "print(\"p-value =\",p_value)"
      ],
      "metadata": {
        "id": "W0uyLwgu5Ag7"
      },
      "execution_count": null,
      "outputs": []
    },
    {
      "cell_type": "markdown",
      "source": [
        "Surprisingly, we actually got a statistically significant effect,meaning that the average systolic blood pressure is higher than the population mean in this sample.\n"
      ],
      "metadata": {
        "id": "N7AhNNf75MhC"
      }
    },
    {
      "cell_type": "markdown",
      "source": [
        "We might also want to quantify the degree of evidence in favor of the null hypothesis, which we can do using the Bayes Factor:\n"
      ],
      "metadata": {
        "id": "u9KOLSxJ5QYA"
      }
    },
    {
      "cell_type": "code",
      "source": [
        "import pingouin as pg\n",
        "\n",
        "bf = pg.bayesfactor_ttest(t=t_stat, nx=n, paired=False)\n",
        "print(f\"Bayes Factor: {bf}\")"
      ],
      "metadata": {
        "id": "d8FEtLJS5Qqg"
      },
      "execution_count": null,
      "outputs": []
    },
    {
      "cell_type": "markdown",
      "source": [
        "The Bayes factor being much bigger than 1 suggests there is a strong evidence for the sample mean systolic blood pressure to be different from the population mean."
      ],
      "metadata": {
        "id": "rMx8jEVq5TF3"
      }
    },
    {
      "cell_type": "markdown",
      "source": [
        "### 14.2 Comparing two means (Section 14.2)\n",
        "\n",
        "To compare two means from independent samples, we can use the two-sample t-test. Let’s say that we want to compare blood pressure of smokers and non-smokers; we don’t have an expectation for the direction, so we will use a two-sided test. First let’s perform a power analysis, again for a small effect:\n"
      ],
      "metadata": {
        "id": "Qd1ip_4X5WVg"
      }
    },
    {
      "cell_type": "code",
      "source": [
        "from statsmodels.stats.power import TTestIndPower\n",
        "\n",
        "effect_size = 0.2\n",
        "analysis = TTestIndPower()\n",
        "sample_size = analysis.solve_power(effect_size=effect_size, power=0.8, alpha=0.05, alternative='two-sided')\n",
        "print(\"Required sample size per group: \",sample_size)"
      ],
      "metadata": {
        "id": "RGGZdosN5TW-"
      },
      "execution_count": null,
      "outputs": []
    },
    {
      "cell_type": "markdown",
      "source": [
        "This tells us that we need 394 subjects in each group, so let’s sample 394 smokers and 394 nonsmokers from the NHANES dataset, and then put them into a single data frame with a variable denoting their smoking status."
      ],
      "metadata": {
        "id": "42NuZdWh5aeP"
      }
    },
    {
      "cell_type": "code",
      "source": [
        "n = int(np.ceil(sample_size))\n",
        "# clean up data\n",
        "adult_nhanes_data.loc[adult_nhanes_data['SmokedAtLeast100CigarettesInLife'] == 0, 'DoYouNowSmokeCigarettes'] = 'Not at all'\n",
        "adult_nhanes_data.loc[:, 'SmokeNow'] = (adult_nhanes_data['DoYouNowSmokeCigarettes'] != 'Not at all')\n",
        "\n",
        "smokers = adult_nhanes_data[adult_nhanes_data['SmokeNow'] == 1].dropna(subset=['BPSysAve']).sample(n=n)\n",
        "nonsmokers = adult_nhanes_data[adult_nhanes_data['SmokeNow'] == 0].dropna(subset=['BPSysAve']).sample(n=n)\n",
        "\n",
        "\n"
      ],
      "metadata": {
        "id": "iBJIfbE25a3y"
      },
      "execution_count": null,
      "outputs": []
    },
    {
      "cell_type": "markdown",
      "source": [
        "Let’s test our hypothesis using a standard two-sample t-test."
      ],
      "metadata": {
        "id": "vwJYbH6U5eVN"
      }
    },
    {
      "cell_type": "code",
      "source": [
        "t_stat, p_value = stats.ttest_ind(smokers['BPSysAve'], nonsmokers['BPSysAve'], equal_var=False)\n",
        "print(\"Two-sample t-test: \")\n",
        "print(\"t-stat =\",t_stat)\n",
        "print(\"p-value =\",p_value)"
      ],
      "metadata": {
        "id": "XpShh6Wh5ubS"
      },
      "execution_count": null,
      "outputs": []
    },
    {
      "cell_type": "markdown",
      "source": [
        "This shows us that there is not a significant difference of blood pressure between smokers and non-smokers.\n",
        "\n",
        "Let’s look at the Bayes factor to quantify the evidence:"
      ],
      "metadata": {
        "id": "BS37faZV5eQZ"
      }
    },
    {
      "cell_type": "code",
      "source": [
        "bf_two_sample = pg.bayesfactor_ttest(t_stat, nx=n, ny=n)\n",
        "print(\"Bayes Factor: \", bf_two_sample)"
      ],
      "metadata": {
        "id": "II2_2IJT5tv5"
      },
      "execution_count": null,
      "outputs": []
    },
    {
      "cell_type": "markdown",
      "source": [
        "Because `pg.bayesfactor_ttest` provides Bayes factor in favor of the alternative hypothesis and this number is quite small. It suggests there is positive evidence in favor of the null hypothesis."
      ],
      "metadata": {
        "id": "lpRMTHn75wZU"
      }
    },
    {
      "cell_type": "markdown",
      "source": [
        "### 14.3 The t-test as a linear model (Section 14.3)\n",
        "\n",
        "We can also use linear regression to implement these t-tests.\n",
        "\n",
        "The one-sample t-test is basically a test for whether the intercept is different from zero, so we use a model with only an intercept and apply this to the data after subtracting the null hypothesis mean (so that the expectation under the null hypothesis is an intercept of zero):"
      ],
      "metadata": {
        "id": "Jj4nbGLL9erv"
      }
    },
    {
      "cell_type": "code",
      "source": [
        "nhanes_BP_sample['BPSysAveDiff'] = nhanes_BP_sample['BPSysAve'] - 120\n",
        "regression_result_1samp = ols('BPSysAveDiff ~ 1', data=nhanes_BP_sample).fit()\n",
        "print(regression_result_1samp.summary())"
      ],
      "metadata": {
        "id": "ajCAUKKa5woo"
      },
      "execution_count": null,
      "outputs": []
    },
    {
      "cell_type": "code",
      "source": [
        "print('p-value:', regression_result_1samp.pvalues[0])"
      ],
      "metadata": {
        "id": "RpwlLJCkKAcz"
      },
      "execution_count": null,
      "outputs": []
    },
    {
      "cell_type": "markdown",
      "source": [
        "You should notice that the p-value is the same as that from the `scipy.stats.ttest_1samp`\n",
        "\n",
        "We can also run the two-sample t-test using `ols`:"
      ],
      "metadata": {
        "id": "it4kZIXiK_hn"
      }
    },
    {
      "cell_type": "code",
      "source": [
        "# combine the smokers' and non-smokers' samples into a single column\n",
        "sample_df = pd.concat([smokers, nonsmokers])\n",
        "\n",
        "regression_result_2samp = ols('BPSysAve ~ SmokeNow', data=sample_df).fit()\n",
        "print(regression_result_2samp.summary())"
      ],
      "metadata": {
        "id": "M-JyK02OKc-U"
      },
      "execution_count": null,
      "outputs": []
    },
    {
      "cell_type": "markdown",
      "source": [
        "Likewise, you will find that the p-value for the coefficient associated with `SmokeNow` is the same as the p-value returned by `scipy.stats.ttest_ind`."
      ],
      "metadata": {
        "id": "cTu7jafrMi-t"
      }
    },
    {
      "cell_type": "markdown",
      "source": [
        "### 14.4 Comparing paired observations (Section 14.4)"
      ],
      "metadata": {
        "id": "rrtwC6TVfgHq"
      }
    },
    {
      "cell_type": "code",
      "source": [
        "cleaned_data = adult_nhanes_data.dropna(subset=['SystolicBloodPres1StRdgMmHg',\n",
        "                                                'SystolicBloodPres2NdRdgMmHg'])\n",
        "\n",
        "t_stat, p_value = stats.ttest_rel(cleaned_data['SystolicBloodPres1StRdgMmHg'],\n",
        "                                  cleaned_data['SystolicBloodPres2NdRdgMmHg'])\n",
        "print(\"Paired t-test: \")\n",
        "print(\"t-stat =\",t_stat)\n",
        "print(\"p-value =\",p_value)"
      ],
      "metadata": {
        "id": "2d62uRydMJP5"
      },
      "execution_count": null,
      "outputs": []
    },
    {
      "cell_type": "markdown",
      "source": [
        "In fact, paired t-test is equivalent to one-sample t-test on the difference between the scores across all individuals. You will find the code below generates the same t-score and p-value:\n"
      ],
      "metadata": {
        "id": "4bLGfjanhzTy"
      }
    },
    {
      "cell_type": "code",
      "source": [
        "t_stat, p_value = stats.ttest_1samp(\n",
        "    cleaned_data['SystolicBloodPres1StRdgMmHg']\n",
        "    - cleaned_data['SystolicBloodPres2NdRdgMmHg'], popmean=0)\n",
        "print(\"Paired t-test performed using one-sample t-test: \")\n",
        "print(\"t-stat =\",t_stat)\n",
        "print(\"p-value =\",p_value)"
      ],
      "metadata": {
        "id": "rW6tLllQh79-"
      },
      "execution_count": null,
      "outputs": []
    },
    {
      "cell_type": "markdown",
      "source": [],
      "metadata": {
        "id": "1zUOG-ICgjDE"
      }
    }
  ]
}