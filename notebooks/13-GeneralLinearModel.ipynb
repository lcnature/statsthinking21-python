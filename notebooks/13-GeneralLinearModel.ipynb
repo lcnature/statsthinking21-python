{
  "cells": [
    {
      "cell_type": "markdown",
      "metadata": {
        "id": "SV9iYzc2eQ2B"
      },
      "source": [
        "# The General Linear Model\n",
        "In this chapter we will explore how to fit general linear models in Python.  We will focus on the tools provided by the `statsmodels` package."
      ]
    },
    {
      "cell_type": "code",
      "execution_count": null,
      "metadata": {
        "lines_to_next_cell": 2,
        "id": "Cmy0dJUteQ2C"
      },
      "outputs": [],
      "source": [
        "! pip install nhanes\n",
        "from nhanes.load import load_NHANES_data\n",
        "nhanes_data = load_NHANES_data()\n",
        "adult_nhanes_data = nhanes_data.query('AgeInYearsAtScreening > 17')"
      ]
    },
    {
      "cell_type": "markdown",
      "metadata": {
        "id": "cuXHNlLfeQ2C"
      },
      "source": [
        "## Linear regression\n",
        "To perform linear regression in Python, we use the `OLS()` function (which stands for *ordinary least squares*) from the `statsmodels` package.  Let's generate some simulated data and use this function to compute the linear regression solution."
      ]
    },
    {
      "cell_type": "code",
      "execution_count": null,
      "metadata": {
        "lines_to_next_cell": 2,
        "id": "0rv-ApGgeQ2C"
      },
      "outputs": [],
      "source": [
        "\n",
        "import numpy as np\n",
        "import pandas as pd\n",
        "import matplotlib.pyplot as plt\n",
        "\n",
        "\n",
        "def generate_linear_data(slope, intercept,\n",
        "                         noise_sd=1, x=None,\n",
        "                         npoints=100, seed=None):\n",
        "    \"\"\"\n",
        "    generate data with a given slope and intercept\n",
        "    and add normally distributed noise\n",
        "\n",
        "    if x is passed as an argument then a given x will be used,\n",
        "    otherwise it will be generated randomly\n",
        "\n",
        "    Returns:\n",
        "    --------\n",
        "    a pandas data frame with variables x and y\n",
        "    \"\"\"\n",
        "    if seed is not None:\n",
        "        np.random.seed(seed)\n",
        "    if x is None:\n",
        "        x = np.random.randn(npoints)\n",
        "\n",
        "    y = x * slope + intercept + np.random.randn(x.shape[0]) * noise_sd\n",
        "    return(pd.DataFrame({'x': x, 'y': y}))\n",
        "\n",
        "\n",
        "slope = 1\n",
        "intercept = 10\n",
        "noise_sd = 1\n",
        "simulated_data = generate_linear_data(slope, intercept, noise_sd, seed=1)\n",
        "\n",
        "plt.scatter(simulated_data['x'], simulated_data['y'])\n",
        "plt.xlabel('x')\n",
        "plt.ylabel('y')\n",
        "plt.show()"
      ]
    },
    {
      "cell_type": "markdown",
      "metadata": {
        "id": "JKshm-5reQ2D"
      },
      "source": [
        "We can then perform linear regression on these data using the `ols` function.  This function doesn't automatically include an intercept in its model, so we need to add one to the design.  Fitting the model using this function is a two-step process.  First, we set up the model and store it to a variable (which we will call `ols_model`).  Then, we actually fit the model, which generates the results that we store to a different variable called `ols_results`, and view a summary using the `.summary()` method of the results variable."
      ]
    },
    {
      "cell_type": "code",
      "execution_count": null,
      "metadata": {
        "id": "mn_yd2rueQ2D"
      },
      "outputs": [],
      "source": [
        "from statsmodels.formula.api import ols\n",
        "\n",
        "ols_model = ols(formula='y ~ x + 1', data=simulated_data)\n",
        "ols_result = ols_model.fit()\n",
        "ols_result.summary()"
      ]
    },
    {
      "cell_type": "markdown",
      "metadata": {
        "id": "aZNr1RTMeQ2D"
      },
      "source": [
        " We should see three things in these results:\n",
        "\n",
        "* The estimate of the Intercept in the model should be very close to the intercept that we specified\n",
        "* The estimate for the x parameter should be very close to the slope that we specified\n",
        "* The residual standard deviation should be roughly similar to the noise standard deviation that we specified.  The summary doesn't report the residual standard deviation directly but we can compute it using the residuals that are stored in the `.resid` element in the result output:"
      ]
    },
    {
      "cell_type": "code",
      "execution_count": null,
      "metadata": {
        "lines_to_next_cell": 2,
        "id": "0OizuCHAeQ2D"
      },
      "outputs": [],
      "source": [
        "ols_result.resid.std()"
      ]
    },
    {
      "cell_type": "markdown",
      "source": [
        "Alternatively, we could also use the `linregress` function in `scipy.stats`\n",
        "\n",
        "It returns an object that contains major results of the regression.\n",
        "\n",
        "Most of the names are intuitive. The standard error of the slope is stored in `stderr`. A standard error of the intercept is also estimated and stored in `intercept_stderr`."
      ],
      "metadata": {
        "id": "IgfYG3qUduK0"
      }
    },
    {
      "cell_type": "code",
      "source": [
        "from scipy.stats import linregress\n",
        "result = linregress(simulated_data['x'], simulated_data['y'])\n",
        "print(result)\n",
        "print('slope:', result.slope)"
      ],
      "metadata": {
        "id": "ruwa_d9adtk_"
      },
      "execution_count": null,
      "outputs": []
    },
    {
      "cell_type": "markdown",
      "metadata": {
        "id": "cGISZYO0eQ2E"
      },
      "source": [
        "## Model criticism and diagnostics\n",
        "Once we have fitted the model, we want to look at some diagnostics to determine whether the model is actually fitting properly.  \n",
        "The first thing to examine is to make sure that the residuals are (at least roughly) normally distributed.  We can do this using a Q-Q plot:"
      ]
    },
    {
      "cell_type": "code",
      "execution_count": null,
      "metadata": {
        "id": "-5dbFSJoeQ2E"
      },
      "outputs": [],
      "source": [
        "import seaborn as sns\n",
        "import scipy.stats\n",
        "\n",
        "_ = scipy.stats.probplot(ols_result.resid, plot=sns.mpl.pyplot)"
      ]
    },
    {
      "cell_type": "markdown",
      "metadata": {
        "id": "vsp-0SY4eQ2E"
      },
      "source": [
        "This looks pretty good, in the sense that the residual data points fall very close to the unit line.  This is not surprising, since we generated the data with normally distributed noise.  We should also plot the predicted (or *fitted*) values against the residuals, to make sure that the model does not work systematically better for some predicted values versus others."
      ]
    },
    {
      "cell_type": "code",
      "execution_count": null,
      "metadata": {
        "id": "vTtThZVSeQ2E"
      },
      "outputs": [],
      "source": [
        "plt.scatter(ols_result.fittedvalues, ols_result.resid)\n",
        "plt.xlabel('Fitted value')\n",
        "plt.ylabel('Residual')\n",
        "plt.show()"
      ]
    },
    {
      "cell_type": "markdown",
      "metadata": {
        "id": "OMtWpsjgeQ2E"
      },
      "source": [
        "As expected, we see no clear relationship.\n",
        "\n",
        "## Examples of problematic model fit\n",
        "Let's say that there was another variable at play in this dataset, which we were not aware of. This variable causes some of the cases to have much larger values than others, in a way that is unrelated to the X variable.  We play a trick here using the `seq()` function to create a sequence from zero to one, and then threshold those at 0.5 (in order to obtain half of the values as zero and the other half as one) and then multiply by the desired effect size:"
      ]
    },
    {
      "cell_type": "code",
      "execution_count": null,
      "metadata": {
        "id": "eyI2CFVseQ2E"
      },
      "outputs": [],
      "source": [
        "simulated_data.loc[:, 'x2'] = (simulated_data.index < (simulated_data.shape[0] / 2)).astype('int')\n",
        "hidden_effect_size = 10\n",
        "simulated_data.loc[:, 'y2'] = simulated_data['y'] + simulated_data['x2'] * hidden_effect_size\n",
        "\n",
        "plt.scatter(simulated_data['x'], simulated_data['y2'])\n",
        "plt.xlabel('x')\n",
        "plt.ylabel('y2')\n",
        "plt.show()"
      ]
    },
    {
      "cell_type": "markdown",
      "metadata": {
        "id": "9GI1kuskeQ2E"
      },
      "source": [
        "Now we fit the model again, and examine the residuals:\n"
      ]
    },
    {
      "cell_type": "code",
      "execution_count": null,
      "metadata": {
        "id": "SEjP4xPEeQ2F"
      },
      "outputs": [],
      "source": [
        "ols_model2 = ols(formula='y2 ~ x + 1', data=simulated_data)\n",
        "ols_result2 = ols_model2.fit()\n",
        "\n",
        "plt.figure(figsize=(12, 6))\n",
        "plt.subplot(1, 2, 1)\n",
        "scipy.stats.probplot(ols_result2.resid, plot=sns.mpl.pyplot)\n",
        "\n",
        "plt.subplot(1, 2, 2)\n",
        "plt.scatter(ols_result2.fittedvalues, ols_result2.resid)\n",
        "plt.xlabel('Fitted value')\n",
        "plt.ylabel('Residual')\n",
        "plt.show()"
      ]
    },
    {
      "cell_type": "markdown",
      "metadata": {
        "id": "HGbBV0jgeQ2F"
      },
      "source": [
        "The lack of normality is clear from the Q-Q plot, and we can also see that there is obvious structure in the residuals.  \n",
        "\n",
        "Let's look at another potential problem, in which the y variable is nonlinearly related to the X variable.  We can create these data by squaring the X variable when we generate the Y variable:"
      ]
    },
    {
      "cell_type": "code",
      "execution_count": null,
      "metadata": {
        "id": "KiSckkMieQ2F"
      },
      "outputs": [],
      "source": [
        "noise_sd = 0.1\n",
        "simulated_data['y3'] = (simulated_data['x']**2) * slope + intercept + np.random.randn(simulated_data.shape[0]) * noise_sd\n",
        "\n",
        "plt.scatter(simulated_data['x'], simulated_data['y3'])\n",
        "plt.xlabel('x')\n",
        "plt.ylabel('y3')\n",
        "plt.show()"
      ]
    },
    {
      "cell_type": "code",
      "execution_count": null,
      "metadata": {
        "id": "-hXDUKv3eQ2F"
      },
      "outputs": [],
      "source": [
        "ols_model3 = ols(formula='y3 ~ x + 1', data=simulated_data)\n",
        "ols_result3 = ols_model3.fit()\n",
        "ols_result3.summary()"
      ]
    },
    {
      "cell_type": "markdown",
      "metadata": {
        "id": "YQ5TqtEMeQ2F"
      },
      "source": [
        "Now we see that there is no significant linear relationship between $X^2$ and Y. But if we look at the residuals the problem with the model becomes clear:\n",
        "\n"
      ]
    },
    {
      "cell_type": "code",
      "source": [
        "plt.figure(figsize=(12, 6))\n",
        "plt.subplot(1, 2, 1)\n",
        "scipy.stats.probplot(ols_result3.resid, plot=sns.mpl.pyplot)\n",
        "\n",
        "plt.subplot(1, 2, 2)\n",
        "plt.scatter(ols_result3.fittedvalues, ols_result3.resid)\n",
        "plt.xlabel('Fitted value')\n",
        "plt.ylabel('Residual')"
      ],
      "metadata": {
        "id": "YsppXLjY-B_c"
      },
      "execution_count": null,
      "outputs": []
    },
    {
      "cell_type": "markdown",
      "metadata": {
        "id": "KRBMRFkIeQ2F"
      },
      "source": [
        "In this case we can see the clearly nonlinear relationship between the predicted and residual values, as well as the clear lack of normality in the residuals.  \n",
        "\n",
        "As we noted in the previous chapter, the \"linear\" in the general linear model doesn't refer to the shape of the response, but instead refers to the fact that model is linear in its parameters --- that is, the predictors in the model only get multiplied the parameters (e.g., rather than being raised to a power of the parameter).  Here is how we would build a model that could account for the nonlinear relationship, by using `x**2` in the model:"
      ]
    },
    {
      "cell_type": "code",
      "execution_count": null,
      "metadata": {
        "id": "f3ij6IeBeQ2G"
      },
      "outputs": [],
      "source": [
        "simulated_data.loc[:, 'x_squared'] = simulated_data['x'] ** 2\n",
        "ols_model4 = ols(formula='y3 ~ x_squared + 1', data=simulated_data)\n",
        "ols_result4 = ols_model4.fit()\n",
        "ols_result4.summary()"
      ]
    },
    {
      "cell_type": "markdown",
      "metadata": {
        "id": "l665MWcceQ2G"
      },
      "source": [
        "Now we see that the effect of $X^2$ is significant, and if we look at the residual plot we should see that things look much better:"
      ]
    },
    {
      "cell_type": "code",
      "execution_count": null,
      "metadata": {
        "id": "kIZlrTxaeQ2G"
      },
      "outputs": [],
      "source": [
        "\n",
        "plt.figure(figsize=(12, 6))\n",
        "plt.subplot(1, 2, 1)\n",
        "scipy.stats.probplot(ols_result4.resid, plot=sns.mpl.pyplot)\n",
        "\n",
        "plt.subplot(1, 2, 2)\n",
        "plt.scatter(ols_result4.fittedvalues, ols_result4.resid)\n",
        "plt.xlabel('Fitted value')\n",
        "plt.ylabel('Residual')\n",
        "plt.show()"
      ]
    },
    {
      "cell_type": "markdown",
      "metadata": {
        "id": "wSvrM8IGeQ2G"
      },
      "source": [
        "Not perfect, but much better than before!\n",
        "\n",
        "## Extending regression to binary outcomes.\n"
      ]
    },
    {
      "cell_type": "code",
      "execution_count": null,
      "metadata": {
        "lines_to_next_cell": 2,
        "id": "5PA0DrZceQ2G"
      },
      "outputs": [],
      "source": [
        "from statsmodels.formula.api import logit\n",
        "\n",
        "valid_answer_diabetes = ['0', '1']\n",
        "diabetes_df = adult_nhanes_data.query(\n",
        "    'DoctorToldYouHaveDiabetes == @valid_answer_diabetes').rename(\n",
        "        columns={'DoctorToldYouHaveDiabetes': 'Diabetes', 'AgeInYearsAtScreening': 'Age', 'BodyMassIndexKgm2': 'BMI'})\n",
        "diabetes_df = diabetes_df.dropna(subset=['Diabetes', 'Age', 'BMI'])\n",
        "diabetes_df['Diabetes'] = pd.to_numeric(diabetes_df['Diabetes'])\n",
        "\n"
      ]
    },
    {
      "cell_type": "markdown",
      "metadata": {
        "id": "DL_gHcu6eQ2G"
      },
      "source": [
        "Now we would like to build a model that allows us to predict who has diabetes, based on their age and Body Mass Index (BMI). However, you may have noticed that the Diabetes variable is a binary variable; because linear regression assumes that the residuals from the model will be normally distributed, and the binary nature of the data will violate this, we instead need to use a different kind of model, known as a *logistic regression* model, which is built to deal with binary outcomes.  We can fit this model using the `logit()` function:"
      ]
    },
    {
      "cell_type": "code",
      "execution_count": null,
      "metadata": {
        "lines_to_next_cell": 2,
        "id": "xxXXoHlSeQ2G"
      },
      "outputs": [],
      "source": [
        "logitfit = logit(formula = 'Diabetes ~ Age + BMI', data = diabetes_df.loc[:,('Diabetes', 'Age', 'BMI')]).fit(disp=0)\n",
        "\n",
        "logitfit.summary()"
      ]
    },
    {
      "cell_type": "markdown",
      "metadata": {
        "id": "7F8Ks_FQeQ2G"
      },
      "source": [
        "This looks very similar to the output from the `ols()` function, and it shows us that there is a significant relationship between the age, weight, and diabetes. The model provides us with a predicted probability that each individual will have diabetes; if this is greater than 0.5, then that means that the model predicts that the individual is more likely than not to have diabetes.  \n",
        "We can start by simply comparing those predictions to the actual outcomes."
      ]
    },
    {
      "cell_type": "code",
      "execution_count": null,
      "metadata": {
        "id": "KXhQmxO3eQ2H"
      },
      "outputs": [],
      "source": [
        "\n",
        "diabetes_df.loc[:, 'LogitPrediction'] = (logitfit.predict() > 0.5).astype('int')\n",
        "\n",
        "pd.crosstab(diabetes_df['Diabetes'], diabetes_df['LogitPrediction'])"
      ]
    },
    {
      "cell_type": "markdown",
      "metadata": {
        "id": "f-22XMQ0eQ2H"
      },
      "source": [
        "This table shows that the model did somewhat well, in that it labeled most non-diabetic people as non-diabetic, and most diabetic people as diabetic.  However, it also made a lot of mistakes, mislabeling nearly half of all diabetic people as non-diabetic.\n",
        "\n",
        "We would often like a single number that tells us how good our prediction is.  We could simply ask how many of our predictions are correct on average:"
      ]
    },
    {
      "cell_type": "code",
      "execution_count": null,
      "metadata": {
        "id": "tATeJKgZeQ2H"
      },
      "outputs": [],
      "source": [
        "(diabetes_df['LogitPrediction'] == diabetes_df['Diabetes']).mean()"
      ]
    },
    {
      "cell_type": "markdown",
      "metadata": {
        "id": "fNoflh-ReQ2H"
      },
      "source": [
        "This tells us that we are doing fairly well at prediction, with over 80% accuracy. However, this measure is problematic, because most people in the sample don't have diabetes.  This means that we could get relatively high accuracy if we simply said that no one has diabetes:"
      ]
    },
    {
      "cell_type": "code",
      "execution_count": null,
      "metadata": {
        "id": "QY8sMDEDeQ2H"
      },
      "outputs": [],
      "source": [
        "(np.zeros(diabetes_df.shape[0]) == diabetes_df['Diabetes']).mean()"
      ]
    },
    {
      "cell_type": "markdown",
      "metadata": {
        "id": "nyovLJL-eQ2H"
      },
      "source": [
        "One commonly used value when we have a graded prediction (as we do here, with the probabiilty that is predicted by the model) is called the *area under the receiver operating characteristic* or *AUROC*. This is a number that ranges from zero to one, where 0.5 means that we are guessing, and one means that our predictions are perfect. Let's see what that comes out to for this dataset, using the `roc_auc_score` from the [scikit-learn](https://scikit-learn.org/stable/) package:"
      ]
    },
    {
      "cell_type": "code",
      "execution_count": null,
      "metadata": {
        "id": "IuHGggKBeQ2H"
      },
      "outputs": [],
      "source": [
        "from sklearn.metrics import roc_auc_score\n",
        "rocscore = roc_auc_score(diabetes_df['Diabetes'], logitfit.predict())\n",
        "rocscore"
      ]
    },
    {
      "cell_type": "markdown",
      "metadata": {
        "id": "O0JiXMQzeQ2H"
      },
      "source": [
        "Our model performs relatively well according to this score.  What if we wanted to know whether this is better than chance?  One option would be to create a null model, in which we purposely break the relationship between our variables. We could then ask how likely our observed score would be if there is no true relationship."
      ]
    },
    {
      "cell_type": "code",
      "execution_count": null,
      "metadata": {
        "id": "9hkwbubSeQ2H"
      },
      "outputs": [],
      "source": [
        "from sklearn.utils import shuffle\n",
        "\n",
        "shuffled_df = diabetes_df.copy()\n",
        "\n",
        "num_runs = 1000\n",
        "\n",
        "roc_scores = pd.DataFrame({'auc': np.zeros(num_runs)})\n",
        "\n",
        "for simulation_run in range(num_runs):\n",
        "    # shuffle the diabetes labels in order to break the relationship\n",
        "    shuffled_df.loc[:, 'Diabetes'] = shuffle(shuffled_df['Diabetes'].values)\n",
        "    randomfit = logit(formula = 'Diabetes ~ Age + BMI', data = shuffled_df).fit(disp=0)\n",
        "    roc_scores.loc[simulation_run, 'auc'] = roc_auc_score(shuffled_df['Diabetes'], randomfit.predict())\n",
        "\n",
        "pvalue = (100 - scipy.stats.percentileofscore(roc_scores['auc'], rocscore))/100\n",
        "pvalue"
      ]
    },
    {
      "cell_type": "markdown",
      "metadata": {
        "id": "SOtrE4t9eQ2H"
      },
      "source": [
        "This shows us that our observed score is higher than all of 1000 scores obtained using random permutations. Thus, we can conclude that our accuracy is greater than chance. However, this doesn't tell us how well we can predict whether a *new* individual will have diabetes.  This is what we turn to next.\n",
        "\n",
        "## Cross-validation\n",
        "\n",
        "Cross-validation is a powerful technique that allows us to estimate how well our results will generalize to a new dataset. Here we will build our own crossvalidation code to see how it works, continuing the logistic regression example from the previous section.\n",
        "In cross-validation, we want to split the data into several subsets and then iteratively train the model while leaving out each subset (which we usually call *folds*) and then test the model on that held-out fold.\n",
        "We can use one of the tools from the [scikit-learn](https://scikit-learn.org/stable/) package to create our cross-validation folds for us.  Let's start by using 10-fold crossvalidation, in which we split the data into 10 parts, and the fit the model while holding out one of those parts and then testing it on the held-out data."
      ]
    },
    {
      "cell_type": "code",
      "execution_count": null,
      "metadata": {
        "lines_to_next_cell": 2,
        "id": "ADBnYgmqeQ2H"
      },
      "outputs": [],
      "source": [
        "from sklearn.model_selection import KFold\n",
        "\n",
        "kf = KFold(n_splits=10, shuffle=True)\n",
        "\n",
        "diabetes_df['Predicted'] = np.nan\n",
        "\n",
        "for train_index, test_index in kf.split(diabetes_df):\n",
        "    train_data = diabetes_df.iloc[train_index, :]\n",
        "    test_data = diabetes_df.iloc[test_index, :]\n",
        "    model = logit(formula = 'Diabetes ~ Age + BMI', data = train_data)\n",
        "    trainfit = model.fit(disp=0)\n",
        "    diabetes_df['Predicted'].update(trainfit.predict(test_data[['Age', 'BMI']]))\n",
        "    # diabetes_df['Predicted'].iloc[test_index] = trainfit.predict(test_data[['Age', 'BMI']])\n",
        "\n",
        "print(pd.crosstab(diabetes_df['Diabetes'], diabetes_df['Predicted']>0.5))\n",
        "\n",
        "roc_auc_score(diabetes_df['Diabetes'], diabetes_df['Predicted'])"
      ]
    },
    {
      "cell_type": "code",
      "source": [
        "\n",
        "test_index.shape\n",
        "trainfit.predict(test_data[['Age', 'BMI']]).shape\n",
        "diabetes_df['Predicted'].update(trainfit.predict(test_data[['Age', 'BMI']]))\n",
        "# diabetes_df['Predicted'].iloc[test_index] = trainfit.predict(test_data[['Age', 'BMI']])\n",
        "# diabetes_df.iloc[test_index, ['Predicted']] = trainfit.predict(test_data[['Age', 'BMI']])\n",
        "# test_index\n"
      ],
      "metadata": {
        "id": "y-pzLMM5pFOr"
      },
      "execution_count": null,
      "outputs": []
    },
    {
      "cell_type": "markdown",
      "metadata": {
        "id": "8uwIv7FXeQ2H"
      },
      "source": [
        "This result shows that our model is able to generalize to new individuals relatively well --- in fact, almost as well as the original model. This is because our sample size is very large; with smaller samples, the generalization performance is usually much less using crossvalidation than using the full sample."
      ]
    }
  ],
  "metadata": {
    "jupytext": {
      "formats": "ipynb,py:percent"
    },
    "kernelspec": {
      "display_name": "Python 3",
      "language": "python",
      "name": "python3"
    },
    "colab": {
      "provenance": []
    }
  },
  "nbformat": 4,
  "nbformat_minor": 0
}