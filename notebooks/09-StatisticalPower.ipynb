{
  "cells": [
    {
      "cell_type": "markdown",
      "metadata": {
        "lines_to_next_cell": 0,
        "id": "6qlw81RvkHUz"
      },
      "source": [
        "# Statistical Power Analysis in Python\n",
        "In this chapter we focus specifically on statistical power.  We will use the NHANES dataset, so let's first set that up."
      ]
    },
    {
      "cell_type": "code",
      "execution_count": null,
      "metadata": {
        "lines_to_next_cell": 2,
        "id": "bhrV9VJ2kHU1"
      },
      "outputs": [],
      "source": [
        "! pip install nhanes\n",
        "import numpy as np\n",
        "import pandas as pd\n",
        "\n",
        "np.random.seed(12345)\n",
        "\n",
        "from nhanes.load import load_NHANES_data\n",
        "\n",
        "nhanes_data = load_NHANES_data()\n",
        "adult_nhanes_data = nhanes_data.query('AgeInYearsAtScreening > 18')\n",
        "adult_nhanes_data = adult_nhanes_data.dropna(subset=['WeightKg']).rename(columns={'WeightKg': 'Weight'})"
      ]
    },
    {
      "cell_type": "markdown",
      "metadata": {
        "id": "l2cveXK7kHU2"
      },
      "source": [
        "## Power analysis\n",
        "\n",
        "We can compute a power analysis using functions from the `statsmodels.stats.power` package. Let's focus on the power for an independent samples t-test in order to determine a difference in the mean between two groups.  Let's say that we think that an effect size of Cohen's d=0.5 is realistic for the study in question (based on previous research) and would be of scientific interest.  We wish to have 80% power to find the effect if it exists.  We can compute the sample size needed for adequate power using the `TTestIndPower()` function:"
      ]
    },
    {
      "cell_type": "code",
      "execution_count": null,
      "metadata": {
        "id": "xYYpI9mUkHU3"
      },
      "outputs": [],
      "source": [
        "\n",
        "import scipy.stats\n",
        "import statsmodels.stats.power as smp\n",
        "import matplotlib.pyplot as plt\n",
        "\n",
        "power_analysis = smp.TTestIndPower()\n",
        "sample_size = power_analysis.solve_power(effect_size=0.5, power=0.8, alpha=0.05)\n",
        "sample_size"
      ]
    },
    {
      "cell_type": "markdown",
      "metadata": {
        "lines_to_next_cell": 0,
        "id": "s5347MzlkHU3"
      },
      "source": [
        "Thus, about 64 participants would be needed in each group in order to test the hypothesis with adequate power.\n",
        "\n",
        "## Power curves\n",
        "\n",
        "We can also create plots that can show us how the power to find an effect varies as a function of effect size and sample size, at the alpha specified in the power analysis. We will use the `plot_power()` function. The x-axis is defined by the `dep_var` argument, while sample sizes (nobs) and effect sizes (effect_size) are provided as arrays."
      ]
    },
    {
      "cell_type": "code",
      "execution_count": null,
      "metadata": {
        "id": "sHgWLO_ekHU3"
      },
      "outputs": [],
      "source": [
        "#+\n",
        "effect_sizes = np.array([0.2, 0.5, 0.8])\n",
        "sample_sizes = np.array(range(10, 500, 10))\n",
        "\n",
        "plt.style.use('seaborn')\n",
        "fig = plt.figure()\n",
        "ax = fig.add_subplot(1, 1, 1)\n",
        "fig = power_analysis.plot_power(\n",
        "    dep_var='nobs', nobs=sample_sizes,\n",
        "    effect_size=effect_sizes, alpha=0.05, ax=ax,\n",
        "    title='Power of Independent Samples t-test\\n$\\\\alpha = 0.05$')\n",
        "\n",
        "#-"
      ]
    },
    {
      "cell_type": "markdown",
      "metadata": {
        "lines_to_next_cell": 0,
        "id": "Ig9HL4MjkHU4"
      },
      "source": [
        "## Simulating statistical power\n",
        "\n",
        "We can also simulate data to see whether the power analysis actually gives the right answer.\n",
        "We will sample data for two groups, with a difference of 0.5 standard deviations between their underlying distributions and a sample size based on power analysis, and we will then look at how often we reject the null hypothesis."
      ]
    },
    {
      "cell_type": "code",
      "execution_count": null,
      "metadata": {
        "lines_to_next_cell": 2,
        "id": "5MuhpXhQkHU5"
      },
      "outputs": [],
      "source": [
        "#+\n",
        "num_runs = 5000\n",
        "effectSize = 0.5\n",
        "\n",
        "# perform power analysis to get sample size\n",
        "power_analysis = smp.TTestIndPower()\n",
        "sampleSize = power_analysis.solve_power(\n",
        "    effect_size=effectSize, power=0.8, alpha=0.05)\n",
        "\n",
        "# round up from estimated sample size\n",
        "sampleSize = int(np.ceil(sampleSize))\n",
        "\n",
        "# create a function that will generate samples and test for\n",
        "# a difference between groups using a two-sample t-test\n",
        "\n",
        "\n",
        "def get_t_result(sampleSize, effectSize):\n",
        "    \"\"\"\n",
        "    perform a ttest on random data of n=sampSize\n",
        "    \"\"\"\n",
        "\n",
        "    group1 = np.random.normal(loc=0.0, scale=1.0, size=sampleSize)\n",
        "    group2 = np.random.normal(loc=effectSize, scale=1.0, size=sampleSize)\n",
        "    ttresult = scipy.stats.ttest_ind(group1, group2)\n",
        "    return(ttresult.pvalue)\n",
        "\n",
        "\n",
        "# create input data frame for output\n",
        "power_sim_results = pd.DataFrame({'p_value': np.zeros(num_runs)})\n",
        "\n",
        "for run in range(num_runs):\n",
        "    power_sim_results.loc[run, 'p_value'] = get_t_result(sampleSize, effectSize)\n",
        "\n",
        "\n",
        "p_reject = np.mean(power_sim_results['p_value'] < 0.05)\n",
        "p_reject\n",
        "#-"
      ]
    },
    {
      "cell_type": "markdown",
      "metadata": {
        "id": "6S5YAOLakHU6"
      },
      "source": [
        "This should return a number very close to 0.8."
      ]
    }
  ],
  "metadata": {
    "jupytext": {
      "formats": "ipynb,py:percent"
    },
    "kernelspec": {
      "display_name": "Python 3",
      "language": "python",
      "name": "python3"
    },
    "colab": {
      "provenance": []
    }
  },
  "nbformat": 4,
  "nbformat_minor": 0
}