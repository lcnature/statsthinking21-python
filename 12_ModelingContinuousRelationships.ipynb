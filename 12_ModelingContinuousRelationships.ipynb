{
  "nbformat": 4,
  "nbformat_minor": 0,
  "metadata": {
    "colab": {
      "provenance": [],
      "authorship_tag": "ABX9TyOeAc585hzzyi2Bvsa4Lg+j",
      "include_colab_link": true
    },
    "kernelspec": {
      "name": "python3",
      "display_name": "Python 3"
    },
    "language_info": {
      "name": "python"
    }
  },
  "cells": [
    {
      "cell_type": "markdown",
      "metadata": {
        "id": "view-in-github",
        "colab_type": "text"
      },
      "source": [
        "<a href=\"https://colab.research.google.com/github/lcnature/statsthinking21-python/blob/master/12_ModelingContinuousRelationships.ipynb\" target=\"_parent\"><img src=\"https://colab.research.google.com/assets/colab-badge.svg\" alt=\"Open In Colab\"/></a>"
      ]
    },
    {
      "cell_type": "markdown",
      "source": [
        "# Correlation\n",
        "\n",
        "\n",
        "## What is the evidence that carbon dioxide increases global temperature?\n",
        "\n",
        "We often hear about climate change. The central cause is the increased emmision of greenhouse gas, particularly carbon dioxide (CO2) due to burning fuels.\n",
        "\n",
        "How are CO2 concentration in air and temperature related?\n",
        "\n",
        "Let's look at some data of historical CO2 concentration (based on ice deep in glacier) and data of temperature flutuation (based on isodope concentration in ancient rocks). [Data source](https://archive.epa.gov/climatechange/kids/documents/temp-and-co2.pdf)\n",
        "\n",
        "\n",
        "Let's first load the data from a text file:\n",
        "\n",
        "\n"
      ],
      "metadata": {
        "id": "LrkZcic2JLbu"
      }
    },
    {
      "cell_type": "code",
      "execution_count": null,
      "metadata": {
        "id": "f7JW0EqbIu8D"
      },
      "outputs": [],
      "source": [
        "import pandas as pd\n",
        "url = 'https://raw.githubusercontent.com/lcnature/statsthinking21-python/refs/heads/master/notebooks/data/Co2_temp.csv'\n",
        "\n",
        "data = pd.read_csv(url)\n",
        "print(data)"
      ]
    },
    {
      "cell_type": "markdown",
      "source": [
        "After the index column, the second column is the year (B.C.). The third column is the estimated concentration of CO2 in the air (ppm). The fourth column is the deviation of the temerature in each year from a baseline (here chosen as 400 B.C.)\n",
        "\n",
        "Let's plot how the two variables (CO2 concentration and temperature anomaly) change over the year\n"
      ],
      "metadata": {
        "id": "iJdtfEedMz2I"
      }
    },
    {
      "cell_type": "code",
      "source": [
        "import matplotlib.pyplot as plt\n",
        "plt.figure(figsize=[10,3])\n",
        "plt.plot(data['year_BC'], data['CO2'])\n",
        "plt.xlabel('year (BC)')\n",
        "plt.ylabel('CO2 (ppm)')\n",
        "plt.xticks(range(0, 500000, 100000))\n",
        "plt.show()\n",
        "\n",
        "plt.figure(figsize=[10,3])\n",
        "plt.plot(data['year_BC'], data['temperature_anomaly'])\n",
        "plt.xlabel('year (BC)')\n",
        "plt.ylabel('temperature anomaly ($^\\circ$C)')\n",
        "plt.xticks(range(0, 500000, 100000))\n",
        "plt.show()"
      ],
      "metadata": {
        "id": "s0IZ5gmIMhcz"
      },
      "execution_count": null,
      "outputs": []
    },
    {
      "cell_type": "markdown",
      "source": [
        "What do you see?\n",
        "\n",
        "\n",
        "They seem to rise and fall with similar patterns\n",
        "\n",
        "Can we visualize their relationship in a different way?\n"
      ],
      "metadata": {
        "id": "qkl6MdE9Oova"
      }
    },
    {
      "cell_type": "code",
      "source": [
        "plt.scatter(data['CO2'], data['temperature_anomaly'])\n",
        "plt.xlabel('CO2 (ppm)')\n",
        "plt.ylabel('temperature anomaly ($^\\circ$C)')\n",
        "plt.show()\n"
      ],
      "metadata": {
        "id": "NipsK0suNgJ1"
      },
      "execution_count": null,
      "outputs": []
    },
    {
      "cell_type": "markdown",
      "source": [
        "A pattern like this indicates that when X variable increases, Y variable turns to increase as well. We call such pattern as correlation.\n",
        "\n",
        "The opposite of it anti-correlation.\n",
        "\n",
        "## Calculate Pearson correlation in Python\n",
        "\n",
        "We want to use a number to quantify how much two variables are related. This is called **correlation coefficient**. More specifically, we will use a technique called **Pearson correlation** to obtain the correlation coefficient.\n",
        "\n",
        "Let's calculate the correlation coefficient between these two variables.\n",
        "\n"
      ],
      "metadata": {
        "id": "ZhZWe1myPYZ-"
      }
    },
    {
      "cell_type": "code",
      "source": [
        "from scipy.stats import pearsonr\n",
        "\n",
        "r, p = pearsonr(data['CO2'], data['temperature_anomaly'])\n",
        "\n",
        "print('correlation coefficient between CO2 and temperature anomaly:', r)\n",
        "print('p-value:', p)"
      ],
      "metadata": {
        "id": "2rcH8zDDPTIN"
      },
      "execution_count": null,
      "outputs": []
    },
    {
      "cell_type": "markdown",
      "source": [
        "It is a positive number!\n",
        "\n",
        "## Magnitude of correlation coefficient and pattern of scatter plot\n",
        "\n",
        "What would a pattern of no correlation look like?\n",
        "\n",
        "If we make a new list by randomly drawing a CO2 value from the historical data withour replacement, we would effectively obtain a shuffled list of the original CO2 data such that each CO2 value is now randomly re-associated with a year. After this shuffling, we shouldn't expect the shuffled variable to be correlated with the other, right?\n",
        "\n",
        "This procedure is called **permutation**\n",
        "\n",
        "Let's give it a try."
      ],
      "metadata": {
        "id": "fArPuavtSHIr"
      }
    },
    {
      "cell_type": "code",
      "source": [
        "import random, copy\n",
        "copy_CO2_data = copy.copy(data['CO2'])\n",
        "# we make a copy, because we don't want to destroy the original list\n",
        "print(type(copy_CO2_data))\n",
        "\n",
        "random.shuffle(copy_CO2_data)\n",
        "# This will make the items in copy_CO2_data randomly shuffled. To not cause confusion,\n",
        "# we make a copy of it with a new name\n",
        "shuffled_CO2 = copy_CO2_data\n",
        "\n",
        "plt.scatter(shuffled_CO2, data['temperature_anomaly'])\n",
        "plt.xlabel('shuffled CO2 (ppm)')\n",
        "plt.ylabel('temperature anomaly ($^\\circ$C)')\n",
        "plt.show()\n"
      ],
      "metadata": {
        "id": "trA_dENuRlG6"
      },
      "execution_count": null,
      "outputs": []
    },
    {
      "cell_type": "markdown",
      "source": [
        "That certainly looks messier.\n",
        "\n",
        "What is the correlation coefficient for such a pattern?\n",
        "\n",
        "Please copy a relevant line of code from above to calculate the correlation coefficient.\n"
      ],
      "metadata": {
        "id": "qbIhxEg4V6AJ"
      }
    },
    {
      "cell_type": "code",
      "source": [
        "r_shuffled, p_shuffled =\n",
        "# Complete the line above\n",
        "\n",
        "\n",
        "print('correlation coefficient between shuffled CO2 and temperature anomaly:',\n",
        "      r_shuffled)\n",
        "print('p-value:', p_shuffled)"
      ],
      "metadata": {
        "id": "YpYNBd30TzRh"
      },
      "execution_count": null,
      "outputs": []
    },
    {
      "cell_type": "markdown",
      "source": [
        "If we flip the sign of one of the variable, how should the correlation coefficient look like?\n",
        "\n"
      ],
      "metadata": {
        "id": "wBx3Gr-QWzhG"
      }
    },
    {
      "cell_type": "code",
      "source": [
        "r_flipped, p_flipped =\n",
        "\n",
        "print('correlation coefficient between flipped CO2 and temperature anomaly:',\n",
        "      r_flipped)\n",
        "print('p-value:', p_flipped)\n"
      ],
      "metadata": {
        "id": "XZIZgwCdWpwQ"
      },
      "execution_count": null,
      "outputs": []
    },
    {
      "cell_type": "markdown",
      "source": [
        "Did you notice how this correlation coefficient and p-value compared to the original correlation coefficient and p-value?"
      ],
      "metadata": {
        "id": "VsnoW7tKXEMl"
      }
    },
    {
      "cell_type": "markdown",
      "source": [
        "In case you are interested, the following code generates figures used in the slide."
      ],
      "metadata": {
        "id": "91bX727YXNbY"
      }
    },
    {
      "cell_type": "code",
      "source": [
        "import numpy as np\n",
        "import matplotlib.pyplot as plt\n",
        "\n",
        "n_sample = 1000\n",
        "\n",
        "for rho in np.linspace(-1, 1, 9):\n",
        "  data = np.random.multivariate_normal([0,0], [[1,rho],[rho,1]], n_sample)\n",
        "  plt.scatter(data[:,0], data[:,1], alpha=0.2)\n",
        "  plt.title(r'$\\rho$={:.02f}'.format(rho), fontsize=26)\n",
        "  plt.xlabel('X')\n",
        "  plt.ylabel('Y')\n",
        "  plt.show()"
      ],
      "metadata": {
        "id": "v5RWA8ILXDH1"
      },
      "execution_count": null,
      "outputs": []
    },
    {
      "cell_type": "markdown",
      "source": [
        "## A few cautions for correlation\n",
        "\n",
        "### sensitivity to outliers\n",
        "When there are a few data points with extremely deviation from most other data points, these data points may dominate the correlation coefficient"
      ],
      "metadata": {
        "id": "YouRN1dGXlmH"
      }
    },
    {
      "cell_type": "code",
      "source": [
        "from scipy.stats import pearsonr\n",
        "import numpy as np\n",
        "X = np.random.randn(40)\n",
        "Y = np.random.randn(40)\n",
        "\n",
        "# Since X and Y are two sets of random numbers drawn from independent normal distributions,\n",
        "# we do not expect them to show a strong correlation.\n",
        "r, p = pearsonr(X, Y)\n",
        "\n",
        "plt.scatter(X,Y)\n",
        "plt.xlabel('X')\n",
        "plt.ylabel('Y')\n",
        "plt.title('without outlier, r='+r'{:.02f}'.format(r))\n",
        "plt.show()\n",
        "\n",
        "\n",
        "print('correlation coefficient between X and Y:', r)\n",
        "\n",
        "# However, if we have one data pair of scores of X and Y that have very big magnitude,\n",
        "# the correlation coefficient will change dramatically.\n",
        "\n",
        "X_wOutlier = np.append(X, 6)\n",
        "Y_wOutlier = np.append(Y, 8)\n",
        "r, p = pearsonr(X_wOutlier, Y_wOutlier)\n",
        "print('correlation coefficient between X and Y after including an outlier:', r)\n",
        "\n",
        "\n",
        "# This can be shown by the scatter plot\n",
        "plt.scatter(X_wOutlier, Y_wOutlier)\n",
        "plt.xlabel('X')\n",
        "plt.ylabel('Y')\n",
        "plt.title('with outlier, r='+r'{:.02f}'.format(r))\n",
        "plt.show()"
      ],
      "metadata": {
        "id": "cfAP6Dj-Xpzx"
      },
      "execution_count": null,
      "outputs": []
    },
    {
      "cell_type": "markdown",
      "source": [
        "### Spurious correlation can arise due to common causal factor.\n",
        "\n",
        "Let's assume that a common variable $Z$ influences both $X$ and $Y$.\n",
        "\n",
        "$X = 3Z + \\epsilon_X$\n",
        "\n",
        "$Y = -2Z + \\epsilon_Y$\n",
        "\n",
        "$\\epsilon_X$ and $\\epsilon_Y$ are both random noise in $X$ and $Y$ unexplained by $Z$.\n",
        "\n",
        "How does the correlation between $X$ and $Y$ look like?"
      ],
      "metadata": {
        "id": "wc5zb3Z7bmqr"
      }
    },
    {
      "cell_type": "code",
      "source": [
        "n = 30\n",
        "Z = np.random.uniform(low=-2, high=2, size=n)\n",
        "\n",
        "X = 3 * Z + np.random.randn(30)\n",
        "\n",
        "Y = -2 * Z + np.random.randn(30)\n",
        "\n",
        "r, p = pearsonr(X, Y)\n",
        "\n",
        "plt.scatter(X,Y)\n",
        "plt.xlabel('X')\n",
        "plt.ylabel('Y')\n",
        "plt.title('spurious correlation \\ninduced by a common cause Z: r='+r'{:.02f}'.format(r))\n",
        "plt.show()"
      ],
      "metadata": {
        "id": "EvbqgemHYj2E"
      },
      "execution_count": null,
      "outputs": []
    }
  ]
}